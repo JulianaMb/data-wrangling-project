{
 "cells": [
  {
   "cell_type": "markdown",
   "metadata": {},
   "source": [
    "<h1>Open Street Map - Goiânia GO (Brazil)</h1>"
   ]
  },
  {
   "cell_type": "markdown",
   "metadata": {},
   "source": [
    "<h2>Map Area </h2>\n",
    "\n",
    "<p>The choosen area is the city that I live, Goiânia state of Goiás in Brazil.</p>\n",
    "\n",
    "[https://www.openstreetmap.org/relation/334547](https://www.openstreetmap.org/relation/334547)\n"
   ]
  },
  {
   "cell_type": "markdown",
   "metadata": {},
   "source": [
    "I choose Goiânia because I live here and I think I can validate the information properly."
   ]
  },
  {
   "cell_type": "markdown",
   "metadata": {},
   "source": [
    "<h2> Problems in the Map </h2>"
   ]
  },
  {
   "cell_type": "markdown",
   "metadata": {},
   "source": [
    "I found some addresses with street attribute but missing street names, some misspelling in the names, and some abreviations. I also found some wrong postal codes that are not supposed to be from Goiânia."
   ]
  },
  {
   "cell_type": "markdown",
   "metadata": {},
   "source": [
    "<h3>Street Names</h3>"
   ]
  },
  {
   "cell_type": "markdown",
   "metadata": {},
   "source": [
    "In Brazil usually the addresses have three main parts, street, block and lot. Some addresses have a number to, but if you have street, block and lot the number is not necessary.\n",
    "\n",
    "I found 29 addresses with just the block and lot information. There is no information about the neighborhood. It complicate even more the identification of the addresses. Two different users did this mistakes."
   ]
  },
  {
   "cell_type": "code",
   "execution_count": null,
   "metadata": {
    "collapsed": true
   },
   "outputs": [],
   "source": [
    "result = db.goiania.find({\"addr.street\": {'$regex': '^Qd', '$options': 'i'}})\n",
    "print db.goiania.find({\"addr.street\": {'$regex': '^Qd', '$options': 'i'}}).count()\n",
    "print db.goiania.find({\"addr.street\": {'$regex': '^Qd', '$options': 'i'}}).distinct(\"created.user\")\n",
    "for doc in result:\n",
    "    print pprint.pprint(doc)\n",
    "\n",
    "#result     \n",
    "29\n",
    "\n",
    "[u'MGMorais', u'erickdeoliveiraleal']\n",
    "\n",
    "{u'_id': ObjectId('5ab983cd659c2a16ec184ec9'),\n",
    " u'addr': {u'street': u'Qd20 Lt04'},\n",
    " u'caract': {u'historic': u'castle',\n",
    "             u'name': u'Carla TER\\xc7A SEXTA',\n",
    "             u'opening_hours': u'Tu, Fr 07:30-16:00'},\n",
    " u'created': {u'changeset': u'50281768',\n",
    "              u'timestamp': u'2017-07-14T12:20:05Z',\n",
    "              u'uid': u'6265328',\n",
    "              u'user': u'MGMorais',\n",
    "              u'version': u'3'},\n",
    " u'id': u'4953787721',\n",
    " u'pos': [-16.746967, -49.1752213],\n",
    " u'type': u'node'}    "
   ]
  },
  {
   "cell_type": "markdown",
   "metadata": {},
   "source": [
    "In Brazil we have some different names to designate a street. I used the function below (audit_street_type) to fullfill the mapping variable with the values that could be replaced."
   ]
  },
  {
   "cell_type": "code",
   "execution_count": null,
   "metadata": {
    "collapsed": true
   },
   "outputs": [],
   "source": [
    "def audit_street_type(street_types, street_name):\n",
    "    m = street_type_re.search(street_name)\n",
    "    if m:\n",
    "        street_type = m.group()\n",
    "        if street_type not in expected:\n",
    "            street_types[street_type].add(street_name)\n",
    "            \n",
    "#Mapping pos audit type\n",
    "mapping = { \"R\": \"Rua\",\n",
    "            \"R.\": \"Rua\",\n",
    "            \"r.\" : \"Rua\",\n",
    "            \"rua\": \"Rua\",\n",
    "            \"RUA\": \"Rua\",\n",
    "            \"Rua-\": \"Rua \",\n",
    "            \"Ruas\": \"Rua\",\n",
    "            \"Av.\": \"Avenida\",\n",
    "            \"AV.\": \"Avenida\",\n",
    "            \"AVENIDA\":\"Avenida\",\n",
    "            \"Alamenda\": \"Alameda\",\n",
    "            \"Rodovoa\": \"Rodovia\"\n",
    "            }"
   ]
  },
  {
   "cell_type": "markdown",
   "metadata": {},
   "source": [
    "<h3>Postal codes</h3>"
   ]
  },
  {
   "cell_type": "markdown",
   "metadata": {},
   "source": [
    "I look for all the documents that have addr and postal code attributes. Only 3000 documents from 319027 have the addr attribute. Among all the addr available only 167 documents have the postal code attribute, and 12 of then are not from Goiânia area. The pattern to validate a postal code is:\n",
    "* Starts with 74 (Goiania area)\n",
    "* 8 digits formatted or not\n",
    "* After the second digit can be a \".\"\n",
    "* After the fifth digit can be a \"-\""
   ]
  },
  {
   "cell_type": "code",
   "execution_count": null,
   "metadata": {
    "collapsed": true
   },
   "outputs": [],
   "source": [
    "#count quantity addr tags\n",
    "print db.goiania.find({\"addr\": {'$exists': True}}).count()  \n",
    "\n",
    "#count quantity postal codes \n",
    "print db.goiania.find({\"addr.postcode\":{'$exists':True}}).count()\n",
    "\n",
    "#count quantity of wrong postal codes\n",
    "print db.goiania.find({\"addr.postcode\":{'$exists':True, \"$not\": re.compile(r\"^74\\.?\\d{3}\\-?\\d{3}$\")}}).count()\n",
    "\n",
    "#city addr.city for wrong postal codes\n",
    "print db.goiania.find({\"addr.postcode\":{'$exists':True, \"$not\": re.compile(r\"^74\\.?\\d{3}\\-?\\d{3}$\")}}).distinct(\"addr.city\")\n",
    "\n",
    "#result\n",
    "3246\n",
    "167\n",
    "12\n",
    "{u'_id': ObjectId('5ab983ca659c2a16ec174d6b'),\n",
    " u'addr': {u'city': u'Goianira', u'postcode': u'75370000'},\n",
    " u'caract': {u'name': u'Escola Municipal Cora Coralina',\n",
    "             u'office': u'educational_institution'},\n",
    " u'created': {u'changeset': u'26921103',\n",
    "              u'timestamp': u'2014-11-21T03:23:19Z',\n",
    "              u'uid': u'2469878',\n",
    "              u'user': u'jwilliansilva',\n",
    "              u'version': u'1'},\n",
    " u'id': u'3198044068',\n",
    " u'pos': [-16.5393776, -49.4020543],\n",
    " u'type': u'node'}\n",
    "#cities\n",
    "[u'Goianira', u'Santo Ant\\xf4nio de Goi\\xe1s', u'Trindade', u'Santo Antonio de Goi\\xe1s']"
   ]
  },
  {
   "cell_type": "markdown",
   "metadata": {},
   "source": [
    "The cities found in the problematic postal codes are nearby, but should not be within Goiânia boundaries."
   ]
  },
  {
   "cell_type": "markdown",
   "metadata": {},
   "source": [
    "<h2>Overview of the data</h2>"
   ]
  },
  {
   "cell_type": "markdown",
   "metadata": {},
   "source": [
    "This section contains basic statistics about the dataset, the MongoDB queries used to gather them, and some additional ideas about the data in context."
   ]
  },
  {
   "cell_type": "markdown",
   "metadata": {},
   "source": [
    "<b>File Sizes</b>\n",
    "\n",
    "map.xml...............63,1 MB<br>\n",
    "map.xml.json........93,9 MB<br>\n"
   ]
  },
  {
   "cell_type": "markdown",
   "metadata": {},
   "source": [
    "<h3>Number of unique users</h3>\n",
    "\n"
   ]
  },
  {
   "cell_type": "markdown",
   "metadata": {},
   "source": [
    "385 different users contributed to the data."
   ]
  },
  {
   "cell_type": "code",
   "execution_count": null,
   "metadata": {
    "collapsed": true
   },
   "outputs": [],
   "source": [
    "user = db.goiania.distinct(\"created.user\")\n",
    "\n",
    "print len(user)\n",
    "\n",
    "385"
   ]
  },
  {
   "cell_type": "markdown",
   "metadata": {},
   "source": [
    "82 users made only one contribution."
   ]
  },
  {
   "cell_type": "code",
   "execution_count": null,
   "metadata": {
    "collapsed": true
   },
   "outputs": [],
   "source": [
    "#unique contributors\n",
    "query = []\n",
    "\n",
    "query.append({\"$group\" : {\"_id\" : \"$created.user\", \"count\":{\"$sum\":1}}})\n",
    "query.append({\"$match\" : {\"count\" : 1}})\n",
    "\n",
    "result = db.goiania.aggregate(query)\n",
    "print len(list(db.goiania.aggregate(query))) \n",
    "\n",
    "for doc in result:\n",
    "    pprint.pprint(doc)\n",
    "\n",
    "#result    \n",
    "82\n",
    "{u'_id': u'Douglas Soares Pereira', u'count': 1}\n",
    "{u'_id': u'marthaleena', u'count': 1}\n",
    "{u'_id': u\"DonomarBarber'Shop\", u'count': 1}\n",
    "{u'_id': u'wambacher', u'count': 1}\n",
    "{u'_id': u'Paulo Henrique Rodrigues Oliveira', u'count': 1}\n",
    "{u'_id': u'Coyoty', u'count': 1}\n",
    "{u'_id': u'marciocr', u'count': 1}    "
   ]
  },
  {
   "cell_type": "markdown",
   "metadata": {},
   "source": [
    "<h3> Top 10 contributors </h3>"
   ]
  },
  {
   "cell_type": "code",
   "execution_count": null,
   "metadata": {
    "collapsed": true
   },
   "outputs": [],
   "source": [
    "#quantidade de contribuições por usuario\n",
    "query = []\n",
    "query.append({\"$group\" : {\"_id\" : \"$created.user\", \"count\":{\"$sum\":1}}})\n",
    "query.append({\"$sort\" : {\"count\": -1}})\n",
    "query.append({\"$limit\" : 10})\n",
    "\n",
    "result = db.goiania.aggregate(query)\n",
    "\n",
    "for doc in result:\n",
    "    pprint.pprint(doc)\n",
    "    \n",
    "{u'_id': u'street0501', u'count': 105016}\n",
    "{u'_id': u'greecemapper', u'count': 33594}\n",
    "{u'_id': u'geocorreiosgo', u'count': 32420}\n",
    "{u'_id': u'erickdeoliveiraleal', u'count': 32363}\n",
    "{u'_id': u'jeffersonbr', u'count': 13613}\n",
    "{u'_id': u'T\\xfallio', u'count': 10010}\n",
    "{u'_id': u'Vilmar Amaral', u'count': 9005}\n",
    "{u'_id': u'taciofernandes', u'count': 8136}\n",
    "{u'_id': u'Dangoh', u'count': 6533}\n",
    "{u'_id': u'jdaraujo', u'count': 6172}"
   ]
  },
  {
   "cell_type": "markdown",
   "metadata": {},
   "source": [
    "<h3> Quantity of documents by type </h3>"
   ]
  },
  {
   "cell_type": "code",
   "execution_count": null,
   "metadata": {
    "collapsed": true
   },
   "outputs": [],
   "source": [
    "#quantity by type\n",
    "query = []\n",
    "query.append({\"$group\" : {\"_id\" : \"$type\", \"count\":{\"$sum\":1}}})\n",
    "query.append({\"$sort\" : {\"count\": -1}})\n",
    "\n",
    "result = db.goiania.aggregate(query)\n",
    "\n",
    "for doc in result:\n",
    "    pprint.pprint(doc)\n",
    "    \n",
    "{u'_id': u'node', u'count': 267749}\n",
    "{u'_id': u'way', u'count': 51278}"
   ]
  },
  {
   "cell_type": "markdown",
   "metadata": {},
   "source": [
    "<h3> Top 10 amenities </h3>"
   ]
  },
  {
   "cell_type": "code",
   "execution_count": null,
   "metadata": {
    "collapsed": true
   },
   "outputs": [],
   "source": [
    "#quantidade de registro por tipo \n",
    "query = []\n",
    "query.append({\"$group\" : {\"_id\" : \"$caract.amenity\", \"count\":{\"$sum\":1}}})\n",
    "query.append({\"$sort\" : {\"count\": -1}})\n",
    "query.append({\"$limit\" : 10})\n",
    "\n",
    "result = db.goiania.aggregate(query)\n",
    "\n",
    "for doc in result:\n",
    "    pprint.pprint(doc)\n",
    "    \n",
    "{u'_id': None, u'count': 317771}\n",
    "{u'_id': u'parking', u'count': 165}\n",
    "{u'_id': u'fuel', u'count': 160}\n",
    "{u'_id': u'bank', u'count': 112}\n",
    "{u'_id': u'school', u'count': 98}\n",
    "{u'_id': u'place_of_worship', u'count': 88}\n",
    "{u'_id': u'fast_food', u'count': 80}\n",
    "{u'_id': u'restaurant', u'count': 78}\n",
    "{u'_id': u'pharmacy', u'count': 76}\n",
    "{u'_id': u'post_office', u'count': 54}    "
   ]
  },
  {
   "cell_type": "markdown",
   "metadata": {},
   "source": [
    "Parking is the most common amenity. \n",
    "\n",
    "Most part of the restaurants are without the cuisine information. For the ones with this information, the most popular cuisine is Pizza."
   ]
  },
  {
   "cell_type": "code",
   "execution_count": null,
   "metadata": {
    "collapsed": true
   },
   "outputs": [],
   "source": [
    "#amenity: restaurant cousine\n",
    "print db.goiania.find({\"caract.amenity\":{\"$exists\": True, \"$eq\": u'restaurant'}}).distinct(\"caract.cuisine\")\n",
    "#most frequent cuisine \n",
    "query = []\n",
    "query.append({\"$match\":{\"caract.amenity\":{\"$exists\": True, \"$eq\": u'restaurant'}}})\n",
    "query.append({\"$group\" : {\"_id\" : \"$caract.cuisine\", \"count\":{\"$sum\":1}}})\n",
    "query.append({\"$sort\" : {\"count\": -1}})\n",
    "cuisine = db.goiania.aggregate(query)\n",
    "for doc in cuisine:\n",
    "    print pprint.pprint(doc)\n",
    "#result\n",
    "[u'barbecue', u'japanese', u'pizza', u'steak_house;burger', u'chinese', u'pasta', u'regional', u'italian', \n",
    " u'international', u'burger', u'barbecue;steak_house;brazilian', u'vegetarian', u'barbecue;japanese', u'chinese;oriental', \n",
    " u'steak_house']\n",
    "\n",
    "{u'_id': None, u'count': 47}\n",
    "{u'_id': u'pizza', u'count': 6}\n",
    "{u'_id': u'regional', u'count': 5}\n",
    "{u'_id': u'burger', u'count': 3}\n",
    "{u'_id': u'japanese', u'count': 3}\n",
    "{u'_id': u'barbecue', u'count': 3}\n",
    "{u'_id': u'international', u'count': 2}\n",
    "{u'_id': u'chinese;oriental', u'count': 1}\n",
    "{u'_id': u'barbecue;japanese', u'count': 1}\n",
    "{u'_id': u'barbecue;steak_house;brazilian', u'count': 1}\n",
    "{u'_id': u'vegetarian', u'count': 1}\n",
    "{u'_id': u'steak_house;burger', u'count': 1}\n",
    "{u'_id': u'pasta', u'count': 1}\n",
    "{u'_id': u'steak_house', u'count': 1}\n",
    "{u'_id': u'chinese', u'count': 1}\n",
    "{u'_id': u'italian', u'count': 1}\n"
   ]
  },
  {
   "cell_type": "markdown",
   "metadata": {},
   "source": [
    "Another data about food that are present among the amenities are fast_food. I searched about the fast food cuisine also."
   ]
  },
  {
   "cell_type": "code",
   "execution_count": null,
   "metadata": {
    "collapsed": true
   },
   "outputs": [],
   "source": [
    "#amenity: restaurant cousine\n",
    "print db.goiania.find({\"caract.amenity\":{\"$exists\": True, \"$eq\": u'fast_food'}}).distinct(\"caract.cuisine\")\n",
    "#most frequent cuisine \n",
    "query = []\n",
    "query.append({\"$match\":{\"caract.amenity\":{\"$exists\": True, \"$eq\": u'fast_food'}}})\n",
    "query.append({\"$group\" : {\"_id\" : \"$caract.cuisine\", \"count\":{\"$sum\":1}}})\n",
    "query.append({\"$sort\" : {\"count\": -1}})\n",
    "cuisine = db.goiania.aggregate(query)\n",
    "for doc in cuisine:\n",
    "    print pprint.pprint(doc)\n",
    "\n",
    "#result    \n",
    "[u'burger', u'sandwich', u'burger;arab', u'burger;sandwich', u'pastel;salgados;coca_gelada;sucos;simpatia', u'sandwiches', u'regional;ice_cream', u'pizza;burger']\n",
    "{u'_id': None, u'count': 65}\n",
    "{u'_id': u'burger', u'count': 6}\n",
    "{u'_id': u'sandwich', u'count': 3}\n",
    "{u'_id': u'regional;ice_cream', u'count': 1}\n",
    "{u'_id': u'sandwiches', u'count': 1}\n",
    "{u'_id': u'burger;arab', u'count': 1}\n",
    "{u'_id': u'pastel;salgados;coca_gelada;sucos;simpatia', u'count': 1}\n",
    "{u'_id': u'burger;sandwich', u'count': 1}\n",
    "{u'_id': u'pizza;burger', u'count': 1}"
   ]
  },
  {
   "cell_type": "markdown",
   "metadata": {},
   "source": [
    "Since religion plays a big role in Brazilian culture I will look for the biggest religion. My guess is that is christian."
   ]
  },
  {
   "cell_type": "code",
   "execution_count": null,
   "metadata": {
    "collapsed": true
   },
   "outputs": [],
   "source": [
    "#amenity: place_of_worship religion\n",
    "print db.goiania.find({\"caract.amenity\":{\"$exists\": True, \"$eq\": u'place_of_worship'}}).distinct(\"caract.religion\")\n",
    "#most frequent religion \n",
    "query = []\n",
    "query.append({\"$match\":{\"caract.amenity\":{\"$exists\": True, \"$eq\": u'place_of_worship'}}})\n",
    "query.append({\"$group\" : {\"_id\" : \"$caract.religion\", \"count\":{\"$sum\":1}}})\n",
    "query.append({\"$sort\" : {\"count\": -1}})\n",
    "religion = db.goiania.aggregate(query)\n",
    "for doc in religion:\n",
    "    print pprint.pprint(doc)\n",
    "    \n",
    "[u'christian', u'Spiritist']\n",
    "{u'_id': u'christian', u'count': 66}\n",
    "\n",
    "{u'_id': None, u'count': 21}\n",
    "\n",
    "{u'_id': u'Spiritist', u'count': 1}\n"
   ]
  },
  {
   "cell_type": "markdown",
   "metadata": {},
   "source": [
    "<h2> Additional information </h2>"
   ]
  },
  {
   "cell_type": "markdown",
   "metadata": {},
   "source": [
    "Some problems that I found analizing this data and suggestions to improvements.\n",
    "<br>\n",
    "<h3> Lack of addresses annotations</h3>\n",
    "\n"
   ]
  },
  {
   "cell_type": "markdown",
   "metadata": {},
   "source": [
    "The data needs more addresses annotations. Parking is the amenity with more annotations (165) but few of then (3) have addresses information. Other amenities have the same problem.     "
   ]
  },
  {
   "cell_type": "code",
   "execution_count": null,
   "metadata": {
    "collapsed": true
   },
   "outputs": [],
   "source": [
    "#information about the most common amenity parking\n",
    "print db.goiania.find({\"caract.amenity\":{\"$exists\": True, \"$eq\": u'parking'}}).count()\n",
    "print db.goiania.find({\"$and\" : [{\"caract.amenity\":{\"$exists\": True, \"$eq\": u'parking'}}, {\"addr\":{\"$exists\": True}}]}).count()\n",
    "#result\n",
    "165\n",
    "3\n",
    "\n",
    "#information about quantity of addr in the amenities restaurant\n",
    "print db.goiania.find({\"caract.amenity\":{\"$exists\": True, \"$eq\": u'restaurant'}}).count()\n",
    "print db.goiania.find({\"$and\" : [{\"caract.amenity\":{\"$exists\": True, \"$eq\": u'restaurant'}}, {\"addr\":{\"$exists\": True}}]}).count()\n",
    "#result\n",
    "78\n",
    "14\n",
    "\n",
    "#information about quantity of addr in the amenities fuel\n",
    "print db.goiania.find({\"caract.amenity\":{\"$exists\": True, \"$eq\": u'fuel'}}).count()\n",
    "print db.goiania.find({\"$and\" : [{\"caract.amenity\":{\"$exists\": True, \"$eq\": u'fuel'}}, {\"addr\":{\"$exists\": True}}]}).count()\n",
    "#result\n",
    "160\n",
    "12\n",
    "\n",
    "#information about quantity of addr in the amenities bank\n",
    "print db.goiania.find({\"caract.amenity\":{\"$exists\": True, \"$eq\": u'bank'}}).count()\n",
    "print db.goiania.find({\"$and\" : [{\"caract.amenity\":{\"$exists\": True, \"$eq\": u'bank'}}, {\"addr\":{\"$exists\": True}}]}).count()\n",
    "#result\n",
    "112\n",
    "11"
   ]
  },
  {
   "cell_type": "markdown",
   "metadata": {},
   "source": [
    "1. Solution.<br>\n",
    "> We can use the Brasilian post office database to annotate more data with their addresses information.<br>\n",
    "    \n",
    "* Benefits<br>\n",
    "> Complete information. It's not enough to know the latitude and longitude. The addresses is a more friendly information for the end user.<br>\n",
    "* Antecipated Issues<br>\n",
    "> Brasilian post office company (Correios) sells this database, and there is latitute and longitude information as long as addresses. If buying is not an option, some old versions are available in the internet but probably not updated like if we buy from Correios."
   ]
  },
  {
   "cell_type": "markdown",
   "metadata": {},
   "source": [
    "<h3> Few contributions </h3>\n",
    "<br> \n",
    "<br>\n",
    "Goiânia map needs more contributions.\n",
    "\n",
    "1. Solution.<br>\n",
    "> Open Street Map initiative should try to contact and advertise in public universities in Brazil. The professors could use projects like this to evaluate the students, and this could contribute to the project. \n",
    "    \n",
    "* Benefits<br>\n",
    "> Increase in data quantity.<br>\n",
    "* Antecipated Issues<br>\n",
    "> We can't be sure about the quality of data provided. The professors could develop a methodology to evaluate an try to prevent bad quality data.\n",
    "\n",
    "\n",
    "<br>\n",
    "<br>\n",
    "\n",
    "Gamefication is also a good strategy to maintain the contributors interested. \n",
    "\n",
    "1. Solution.<br>\n",
    "> Provide an interesting gamification strategy to contributors. \n",
    "    \n",
    "* Benefits<br>\n",
    "> Increases the number of contributors and maintains the interest in regular contribution.<br>\n",
    "* Antecipated Issues<br>\n",
    "> A regular developer team is necessary to make and maintain the changes. Maintaining a private team could increase the costs of the project. Counting with voluntary contribution may take longer than we expect.\n"
   ]
  },
  {
   "cell_type": "code",
   "execution_count": null,
   "metadata": {
    "collapsed": true
   },
   "outputs": [],
   "source": []
  }
 ],
 "metadata": {
  "anaconda-cloud": {},
  "kernelspec": {
   "display_name": "Python [conda env:DAND]",
   "language": "python",
   "name": "conda-env-DAND-py"
  },
  "language_info": {
   "codemirror_mode": {
    "name": "ipython",
    "version": 2
   },
   "file_extension": ".py",
   "mimetype": "text/x-python",
   "name": "python",
   "nbconvert_exporter": "python",
   "pygments_lexer": "ipython2",
   "version": "2.7.12"
  }
 },
 "nbformat": 4,
 "nbformat_minor": 2
}
